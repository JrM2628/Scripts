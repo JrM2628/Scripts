{
 "cells": [
  {
   "cell_type": "code",
   "execution_count": 131,
   "metadata": {},
   "outputs": [],
   "source": [
    "import math\n",
    "import random \n",
    "\n",
    "def egcd(a, b):\n",
    "    if a == 0:\n",
    "        return b, 0, 1\n",
    "    else:\n",
    "        g, x, y = egcd(b % a, a)\n",
    "        return g, y - (b // a) * x, x\n",
    "\n",
    "def isPrime(a):\n",
    "    for i in range(2, math.ceil(math.sqrt(a))):\n",
    "        if a % i == 0:\n",
    "            return False\n",
    "    return True\n",
    "\n",
    "def mod_inv(a, m):\n",
    "    g, x, y = egcd(a, m)\n",
    "    if g != 1:\n",
    "        raise Exception('modular inverse does not exist')\n",
    "    else:\n",
    "        return x % m\n",
    "    \n",
    "def square_and_multiply(x, t, n):\n",
    "    r = x\n",
    "    ex_h = bin(t)[2::]\n",
    "    ex_h = ex_h[::-1]\n",
    "    \n",
    "    for i in range(len(ex_h)-1, 0, -1):\n",
    "        r = (r ** 2) % n\n",
    "        if int(ex_h[i-1]) == 1:\n",
    "            r = (r * x) % n\n",
    "    return(r)\n",
    "\n",
    "\n",
    "def rsa_encrypt(e, n, plaintext):\n",
    "    cipher_text = square_and_multiply(plaintext, e, n)\n",
    "    return cipher_text \n",
    "\n",
    "def rsa_decrypt(p, q, e, ciphertext):\n",
    "    m = p * q\n",
    "    t = (p - 1) * (q - 1)\n",
    "    d = mod_inv(e, t) \n",
    "    #plaintext = ciphertext ** d % m\n",
    "    plaintext = str(square_and_multiply(ciphertext, d, m))\n",
    "    return(plaintext)\n",
    "\n",
    "def decode_text(encoded_text):\n",
    "    output = \"\"\n",
    "    for i in range(0, len(encoded_text), 2):\n",
    "        converted_to_int = int(encoded_text[i:i+2])\n",
    "        if converted_to_int != 0:\n",
    "            output += (chr(converted_to_int + ord('A')-1))\n",
    "        else:\n",
    "            output += (\" \")\n",
    "    return(output)"
   ]
  },
  {
   "cell_type": "code",
   "execution_count": 170,
   "metadata": {},
   "outputs": [
    {
     "name": "stdout",
     "output_type": "stream",
     "text": [
      "26 5\n",
      "14 9\n"
     ]
    }
   ],
   "source": [
    "p = 3\n",
    "q = 11\n",
    "d = 7\n",
    "e = 23\n",
    "x = 5\n",
    "ctext = rsa_encrypt(e, p*q, x)\n",
    "ptext = rsa_decrypt(p, q, e, ctext)\n",
    "print(ctext, ptext)\n",
    "\n",
    "p = 5\n",
    "q = 11\n",
    "e = 3\n",
    "t = (p - 1) * (q - 1)\n",
    "d = mod_inv(e, t)\n",
    "x = 9\n",
    "ctext = rsa_encrypt(e, p*q, x)\n",
    "ptext = rsa_decrypt(p, q, e, ctext)\n",
    "print(ctext, ptext)"
   ]
  },
  {
   "cell_type": "code",
   "execution_count": 166,
   "metadata": {},
   "outputs": [
    {
     "name": "stdout",
     "output_type": "stream",
     "text": [
      "56\n",
      "174\n"
     ]
    }
   ],
   "source": [
    "#Q2\n",
    "def crt(p, q, a, b):\n",
    "    onezero = q * mod_inv(q, p)\n",
    "    zeroone = p * mod_inv(p, q)\n",
    "    return ((a * onezero) + (b * zeroone)) % (p*q)\n",
    "\n",
    "\"\"\"\n",
    "print(crt(5, 7, 3, 1))\n",
    "print(crt(5, 7, 1, 6))\n",
    "print(crt(5, 7, 4, 0))\n",
    "print(crt(5, 7, 2, 1))\n",
    "print(crt(5, 7, 4, 1))\n",
    "\"\"\"\n",
    "\n",
    "print(crt(13, 17, 4,5))\n",
    "print(crt(13, 17, 5,4))"
   ]
  },
  {
   "cell_type": "code",
   "execution_count": 133,
   "metadata": {},
   "outputs": [
    {
     "name": "stdout",
     "output_type": "stream",
     "text": [
      "[997633, 852841, 838201]\n",
      "[9890881, 9613297, 9585541]\n"
     ]
    }
   ],
   "source": [
    "#Q3\n",
    "\"\"\"\n",
    "TEST VALUES\n",
    "Includes carmichael numbers up to 100k\n",
    "https://primes.utm.edu/glossary/page.php?sort=CarmichaelNumber#:~:text=561%2C%201105%2C%201729%2C%202465,246%2C683%20Carmichael%20numbers%20below%2010%2C000%2C000%2C000%2C000%2C000.)\n",
    "\"\"\"\n",
    "def fpt(p, s):\n",
    "    if p % 2 == 0:\n",
    "        return False\n",
    "    for i in range(1, s):\n",
    "        a = random.randint(2, p-2)\n",
    "        if egcd(a, p)[0] == 1 and square_and_multiply(a, p-1, p) != 1:\n",
    "            return False\n",
    "    return True\n",
    "\n",
    "\n",
    "def find_n_carmichaels(max_val, n): \n",
    "    i = max_val\n",
    "    car_nums = []\n",
    "    while i > 0 and len(car_nums) < n:\n",
    "        if fpt(i, 25) and not isPrime(i):\n",
    "            car_nums.append(i)\n",
    "        i-=1\n",
    "    return car_nums\n",
    "print(find_n_carmichaels(10**6, 3))\n",
    "print(find_n_carmichaels(10**7, 3))\n"
   ]
  },
  {
   "cell_type": "code",
   "execution_count": 136,
   "metadata": {},
   "outputs": [
    {
     "name": "stdout",
     "output_type": "stream",
     "text": [
      "A :  3288\n",
      "B :  705\n",
      "C :  3003\n",
      "D :  3335\n",
      "E :  153\n",
      "F :  2555\n",
      "G :  2698\n",
      "H :  2912\n",
      "I :  1125\n",
      "J :  1635\n",
      "K :  2464\n",
      "L :  1567\n",
      "M :  333\n",
      "N :  3368\n",
      "O :  2929\n",
      "P :  3696\n",
      "Q :  1720\n",
      "R :  1204\n",
      "S :  2514\n",
      "T :  3313\n",
      "U :  2499\n",
      "V :  2850\n",
      "W :  1222\n",
      "X :  1224\n",
      "Y :  3222\n",
      "Z :  2762\n",
      "['H', 'O', 'N', 'E', 'Y', 'D', 'E', 'W']\n"
     ]
    }
   ],
   "source": [
    "#Q6\n",
    "#53 AND 71 ARE FACTORS OF 3763\n",
    "p = 53\n",
    "q = 71\n",
    "e = 11\n",
    "\n",
    "for x in range(ord('A'), ord('Z') + 1):\n",
    "    print(chr(x), \": \",rsa_encrypt(e, p*q, x))\n",
    "\n",
    "ct_chars = [2912, 2929, 3368, 153, 3222, 3335, 153,  1222]\n",
    "pt_chars = []\n",
    "for x in ct_chars:\n",
    "    pt_chars.append(chr(int(rsa_decrypt(p,q,e,x))))\n",
    "print(pt_chars)"
   ]
  },
  {
   "cell_type": "code",
   "execution_count": null,
   "metadata": {},
   "outputs": [],
   "source": [
    "#Q7\n",
    "p = 3490529510847650949147849619903898133417764638493387843990820577\n",
    "q = 32769132993266709549961988190834461413177642967992942539798288533\n",
    "e = 9007\n",
    "#ciphertext = 96869613754622061477140922254355882905759991124574319874695120930816298225145708356931476622883989628013391990551829945157815154\n",
    "ciphertext = 91045328916998417442482698097341808065794629308863274299915006508648723904695483923175519319873972294295937946793571148693700025\n",
    "\n",
    "pt = decode_text(rsa_decrypt(p,q,e,ciphertext))\n",
    "print(pt)\n"
   ]
  },
  {
   "cell_type": "code",
   "execution_count": null,
   "metadata": {},
   "outputs": [],
   "source": []
  },
  {
   "cell_type": "code",
   "execution_count": null,
   "metadata": {},
   "outputs": [],
   "source": []
  },
  {
   "cell_type": "code",
   "execution_count": null,
   "metadata": {},
   "outputs": [],
   "source": []
  },
  {
   "cell_type": "code",
   "execution_count": null,
   "metadata": {},
   "outputs": [],
   "source": []
  },
  {
   "cell_type": "code",
   "execution_count": null,
   "metadata": {},
   "outputs": [],
   "source": []
  },
  {
   "cell_type": "code",
   "execution_count": null,
   "metadata": {},
   "outputs": [],
   "source": [
    "\n"
   ]
  },
  {
   "cell_type": "code",
   "execution_count": null,
   "metadata": {},
   "outputs": [],
   "source": []
  },
  {
   "cell_type": "code",
   "execution_count": null,
   "metadata": {},
   "outputs": [],
   "source": []
  },
  {
   "cell_type": "code",
   "execution_count": null,
   "metadata": {},
   "outputs": [],
   "source": []
  }
 ],
 "metadata": {
  "kernelspec": {
   "display_name": "Python 3",
   "language": "python",
   "name": "python3"
  },
  "language_info": {
   "codemirror_mode": {
    "name": "ipython",
    "version": 3
   },
   "file_extension": ".py",
   "mimetype": "text/x-python",
   "name": "python",
   "nbconvert_exporter": "python",
   "pygments_lexer": "ipython3",
   "version": "3.7.0"
  }
 },
 "nbformat": 4,
 "nbformat_minor": 4
}
