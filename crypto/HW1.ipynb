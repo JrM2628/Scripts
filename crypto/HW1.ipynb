{
 "cells": [
  {
   "cell_type": "code",
   "execution_count": 1,
   "metadata": {},
   "outputs": [],
   "source": [
    "kps = 800000000\n",
    "cost_per = 50\n",
    "budget = 1000000\n",
    "total_asics = budget / cost_per\n",
    "total_kps = kps * total_asics\n",
    "keyspace = 2**128\n",
    "\n",
    "total_asics, keyspace"
   ]
  },
  {
   "cell_type": "code",
   "execution_count": 2,
   "metadata": {
    "scrolled": true
   },
   "outputs": [
    {
     "data": {
      "text/plain": [
       "3.3719634596268794e+17"
      ]
     },
     "execution_count": 2,
     "metadata": {},
     "output_type": "execute_result"
    }
   ],
   "source": [
    "avg_keyspace = 2**127\n",
    "#Total seconds of computing power needed on average to crack a 128 bit key\n",
    "total_seconds = avg_keyspace / total_kps\n",
    "seconds_per_year = 60*60*24*365\n",
    "total_years = total_seconds / seconds_per_year\n",
    "total_years"
   ]
  },
  {
   "cell_type": "code",
   "execution_count": 3,
   "metadata": {},
   "outputs": [
    {
     "data": {
      "text/plain": [
       "33719634.596268795"
      ]
     },
     "execution_count": 3,
     "metadata": {},
     "output_type": "execute_result"
    }
   ],
   "source": [
    "age_of_universe = 10**10\n",
    "total_universes = total_years / age_of_universe\n",
    "total_universes"
   ]
  },
  {
   "cell_type": "code",
   "execution_count": 4,
   "metadata": {},
   "outputs": [
    {
     "data": {
      "text/plain": [
       "9.846133302110488e+28"
      ]
     },
     "execution_count": 4,
     "metadata": {},
     "output_type": "execute_result"
    }
   ],
   "source": [
    "keys_per_asic = avg_keyspace / total_asics \n",
    "seconds_per_day = 60*60*24\n",
    "keys_per_asic\n",
    "kps_for_24_hours = keys_per_asic / seconds_per_day\n",
    "kps_for_24_hours"
   ]
  },
  {
   "cell_type": "code",
   "execution_count": 5,
   "metadata": {},
   "outputs": [
    {
     "name": "stdout",
     "output_type": "stream",
     "text": [
      "800000000\n",
      "1600000000\n",
      "3200000000\n",
      "6400000000\n",
      "12800000000\n",
      "25600000000\n",
      "51200000000\n",
      "102400000000\n",
      "204800000000\n",
      "409600000000\n",
      "819200000000\n",
      "1638400000000\n",
      "3276800000000\n",
      "6553600000000\n",
      "13107200000000\n",
      "26214400000000\n",
      "52428800000000\n",
      "104857600000000\n",
      "209715200000000\n",
      "419430400000000\n",
      "838860800000000\n",
      "1677721600000000\n",
      "3355443200000000\n",
      "6710886400000000\n",
      "13421772800000000\n",
      "26843545600000000\n",
      "53687091200000000\n",
      "107374182400000000\n",
      "214748364800000000\n",
      "429496729600000000\n",
      "858993459200000000\n",
      "1717986918400000000\n",
      "3435973836800000000\n",
      "6871947673600000000\n",
      "13743895347200000000\n",
      "27487790694400000000\n",
      "54975581388800000000\n",
      "109951162777600000000\n",
      "219902325555200000000\n",
      "439804651110400000000\n",
      "879609302220800000000\n",
      "1759218604441600000000\n",
      "3518437208883200000000\n",
      "7036874417766400000000\n",
      "14073748835532800000000\n",
      "28147497671065600000000\n",
      "56294995342131200000000\n",
      "112589990684262400000000\n",
      "225179981368524800000000\n",
      "450359962737049600000000\n",
      "900719925474099200000000\n",
      "1801439850948198400000000\n",
      "3602879701896396800000000\n",
      "7205759403792793600000000\n",
      "14411518807585587200000000\n",
      "28823037615171174400000000\n",
      "57646075230342348800000000\n",
      "115292150460684697600000000\n",
      "230584300921369395200000000\n",
      "461168601842738790400000000\n",
      "922337203685477580800000000\n",
      "1844674407370955161600000000\n",
      "3689348814741910323200000000\n",
      "7378697629483820646400000000\n",
      "14757395258967641292800000000\n",
      "29514790517935282585600000000\n",
      "59029581035870565171200000000\n",
      "118059162071741130342400000000 kps after 67 power increases\n",
      "Approx. 102.0 years\n"
     ]
    }
   ],
   "source": [
    "power_bumps = 0\n",
    "new_kps = kps\n",
    "while new_kps <= kps_for_24_hours:\n",
    "    print(new_kps)\n",
    "    power_bumps += 1\n",
    "    new_kps *= 2\n",
    "print(\"{} kps after {} power increases\".format(new_kps, power_bumps))\n",
    "print(\"Approx. \" + str(1.5+(1.5*power_bumps)) + \" years\")"
   ]
  },
  {
   "cell_type": "code",
   "execution_count": 6,
   "metadata": {},
   "outputs": [
    {
     "name": "stdout",
     "output_type": "stream",
     "text": [
      "72057.59403792793 seconds: True\n"
     ]
    }
   ],
   "source": [
    "#Verify above\n",
    "new_total_kps = new_kps * total_asics\n",
    "new_total_seconds = avg_keyspace / new_total_kps\n",
    "print(new_total_seconds, \"seconds:\",new_total_seconds <= 60*60*24)"
   ]
  }
 ],
 "metadata": {
  "kernelspec": {
   "display_name": "Python 3",
   "language": "python",
   "name": "python3"
  },
  "language_info": {
   "codemirror_mode": {
    "name": "ipython",
    "version": 3
   },
   "file_extension": ".py",
   "mimetype": "text/x-python",
   "name": "python",
   "nbconvert_exporter": "python",
   "pygments_lexer": "ipython3",
   "version": "3.7.0"
  }
 },
 "nbformat": 4,
 "nbformat_minor": 2
}
