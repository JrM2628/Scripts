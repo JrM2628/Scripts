{
 "cells": [
  {
   "cell_type": "code",
   "execution_count": 1,
   "metadata": {},
   "outputs": [],
   "source": [
    "def egcd(a, b):\n",
    "    if a == 0:\n",
    "        return b, 0, 1\n",
    "    else:\n",
    "        g, x, y = egcd(b % a, a)\n",
    "        return g, y - (b // a) * x, x\n",
    "\n",
    "def mod_inv(a, m):\n",
    "    g, x, y = egcd(a, m)\n",
    "    if g != 1:\n",
    "        raise Exception('modular inverse does not exist')\n",
    "    else:\n",
    "        return x % m"
   ]
  },
  {
   "cell_type": "code",
   "execution_count": 2,
   "metadata": {},
   "outputs": [],
   "source": [
    "def affine_decrypt(a, b, ciphertext):\n",
    "    plaintext = \"\"\n",
    "    a_inv = mod_inv(a, 26)\n",
    "    for ct in ciphertext:\n",
    "        ct_val = ord(ct) - ord('a')\n",
    "        pt_val = a_inv * (ct_val - b) % 26\n",
    "        plaintext += (chr(pt_val + ord('a')))\n",
    "    return plaintext"
   ]
  },
  {
   "cell_type": "code",
   "execution_count": 3,
   "metadata": {},
   "outputs": [
    {
     "name": "stdout",
     "output_type": "stream",
     "text": [
      "firstthesentenceandthentheevidencesaidthequeen\n"
     ]
    }
   ],
   "source": [
    "a = 7\n",
    "b = 22\n",
    "ciphertext = 'falszztysyjzyjkywjrztyjztyynaryjkyswarztyegyyj'\n",
    "print(affine_decrypt(a, b, ciphertext))"
   ]
  },
  {
   "cell_type": "code",
   "execution_count": 4,
   "metadata": {},
   "outputs": [
    {
     "data": {
      "text/plain": [
       "(9, 10, 3, 9)"
      ]
     },
     "execution_count": 4,
     "metadata": {},
     "output_type": "execute_result"
    }
   ],
   "source": [
    "a = 3**2 % 13\n",
    "b = 7**2 % 13\n",
    "c = 3**10 % 13\n",
    "d = 7**100 % 13\n",
    "\n",
    "x = 7**100\n",
    "x % 13\n",
    "11 ** 20 % 13\n",
    "a, b, c, d"
   ]
  },
  {
   "cell_type": "code",
   "execution_count": 5,
   "metadata": {
    "scrolled": true
   },
   "outputs": [
    {
     "name": "stdout",
     "output_type": "stream",
     "text": [
      "\n",
      "0 :  4\n",
      "1 :  1\n",
      "2 :  2\n",
      "3 :  1\n",
      "\n",
      "0 :  5\n",
      "1 :  1\n",
      "2 :  1\n",
      "3 :  1\n",
      "4 :  1\n",
      "\n",
      "0 :  6\n",
      "1 :  1\n",
      "2 :  2\n",
      "3 :  3\n",
      "4 :  2\n",
      "5 :  1\n",
      "\n",
      "0 :  11\n",
      "1 :  1\n",
      "2 :  1\n",
      "3 :  1\n",
      "4 :  1\n",
      "5 :  1\n",
      "6 :  1\n",
      "7 :  1\n",
      "8 :  1\n",
      "9 :  1\n",
      "10 :  1\n",
      "\n",
      "0 :  12\n",
      "1 :  1\n",
      "2 :  2\n",
      "3 :  3\n",
      "4 :  4\n",
      "5 :  1\n",
      "6 :  6\n",
      "7 :  1\n",
      "8 :  4\n",
      "9 :  3\n",
      "10 :  2\n",
      "11 :  1\n",
      "\n",
      "0 :  13\n",
      "1 :  1\n",
      "2 :  1\n",
      "3 :  1\n",
      "4 :  1\n",
      "5 :  1\n",
      "6 :  1\n",
      "7 :  1\n",
      "8 :  1\n",
      "9 :  1\n",
      "10 :  1\n",
      "11 :  1\n",
      "12 :  1\n",
      "\n",
      "9\n",
      "5\n",
      "8\n"
     ]
    }
   ],
   "source": [
    "#Prints addition/mult. table for ring Zm \n",
    "def print_matrix(m, mul):\n",
    "    matrix = [[0 for i in range(m)] for j in range(m)] \n",
    "    for x in range(m):\n",
    "        for y in range(m):\n",
    "            if mul:\n",
    "                matrix[x][y]=(x * y)%m\n",
    "            else:\n",
    "                matrix[x][y]=(x + y)%m\n",
    "    for r in matrix:\n",
    "        print(r)\n",
    "        \n",
    "def print_gcds(m):\n",
    "    for q in range(m):\n",
    "        print(q,': ', egcd(q, m)[0]) \n",
    "        \n",
    "\n",
    "print()\n",
    "print_gcds(4)\n",
    "print()\n",
    "print_gcds(5)\n",
    "print()\n",
    "print_gcds(6)\n",
    "print()\n",
    "\n",
    "print_gcds(11)\n",
    "print()\n",
    "print_gcds(12)\n",
    "print()\n",
    "print_gcds(13)\n",
    "print()\n",
    "\n",
    "print(mod_inv(5, 11))\n",
    "print(mod_inv(5, 12))\n",
    "print(mod_inv(5, 13))\n",
    "\n"
   ]
  },
  {
   "cell_type": "code",
   "execution_count": 6,
   "metadata": {},
   "outputs": [
    {
     "data": {
      "text/plain": [
       "(36, 4, -7)"
      ]
     },
     "execution_count": 6,
     "metadata": {},
     "output_type": "execute_result"
    }
   ],
   "source": [
    "egcd(102, 351)\n",
    "egcd(576, 324)"
   ]
  },
  {
   "cell_type": "code",
   "execution_count": 7,
   "metadata": {},
   "outputs": [
    {
     "data": {
      "text/plain": [
       "(16, -5, 24)"
      ]
     },
     "execution_count": 7,
     "metadata": {},
     "output_type": "execute_result"
    }
   ],
   "source": [
    "egcd(1072, 224)"
   ]
  },
  {
   "cell_type": "code",
   "execution_count": 10,
   "metadata": {},
   "outputs": [
    {
     "name": "stdout",
     "output_type": "stream",
     "text": [
      "penumbra\n"
     ]
    }
   ],
   "source": [
    "a = 9\n",
    "b = 11\n",
    "ciphertext = 'QVYJPUIL'.lower()\n",
    "print(affine_decrypt(a, b, ciphertext))"
   ]
  },
  {
   "cell_type": "code",
   "execution_count": null,
   "metadata": {},
   "outputs": [],
   "source": []
  }
 ],
 "metadata": {
  "kernelspec": {
   "display_name": "Python 3",
   "language": "python",
   "name": "python3"
  },
  "language_info": {
   "codemirror_mode": {
    "name": "ipython",
    "version": 3
   },
   "file_extension": ".py",
   "mimetype": "text/x-python",
   "name": "python",
   "nbconvert_exporter": "python",
   "pygments_lexer": "ipython3",
   "version": "3.7.0"
  }
 },
 "nbformat": 4,
 "nbformat_minor": 4
}
