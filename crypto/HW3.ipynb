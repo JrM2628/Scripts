{
 "cells": [
  {
   "cell_type": "code",
   "execution_count": 1,
   "metadata": {},
   "outputs": [],
   "source": [
    "\"\"\"\n",
    "Absolutely garbage code\n",
    "compute  = #1A. x^4 + x^3 + x + 1\n",
    "compute2 = #1B. x^4 + x + 1\n",
    "compute3 = #1C. x^5 + x^3 + x^2 + 1\n",
    "\"\"\"\n",
    "\n",
    "def genf3_1(f3, f1, f0):\n",
    "    return f3 ^ ((f1^f0));\n",
    "\n",
    "def compute(v, i):\n",
    "    print(v, i)\n",
    "    if i == 0:\n",
    "        return v;\n",
    "    else:\n",
    "        f3 = genf3_1(v[0], v[2], v[3])\n",
    "        return compute([f3, v[0], v[1], v[2]], i-1)\n",
    "\n",
    "\n",
    "def genf3_2(f1, f0):\n",
    "    return (f1^f0);\n",
    "\n",
    "def compute2(v, i):\n",
    "    print(v, i)\n",
    "    if i == 0:\n",
    "        return v;\n",
    "    else:\n",
    "        f3 = genf3_2(v[2], v[3])\n",
    "        return compute2([f3, v[0], v[1], v[2]], i-1)\n",
    "\n",
    "\n",
    "def genf4(f3, f2 ,f0):\n",
    "    return (f3 ^ (f2 ^ f0));\n",
    "\n",
    "def compute3(v, i):\n",
    "    print(v, i)\n",
    "    if i == 0:\n",
    "        return v;\n",
    "    else:\n",
    "        f4 = genf4(v[1], v[2], v[4])\n",
    "        return compute3([f4, v[0], v[1], v[2], v[3]], i-1)"
   ]
  },
  {
   "cell_type": "code",
   "execution_count": 2,
   "metadata": {
    "scrolled": true
   },
   "outputs": [
    {
     "name": "stdout",
     "output_type": "stream",
     "text": [
      "[1, 0, 0, 0] 6\n",
      "[1, 1, 0, 0] 5\n",
      "[1, 1, 1, 0] 4\n",
      "[0, 1, 1, 1] 3\n",
      "[0, 0, 1, 1] 2\n",
      "[0, 0, 0, 1] 1\n",
      "[1, 0, 0, 0] 0\n",
      "\n",
      "[1, 1, 1, 1] 6\n",
      "[1, 1, 1, 1] 5\n",
      "[1, 1, 1, 1] 4\n",
      "[1, 1, 1, 1] 3\n",
      "[1, 1, 1, 1] 2\n",
      "[1, 1, 1, 1] 1\n",
      "[1, 1, 1, 1] 0\n"
     ]
    }
   ],
   "source": [
    "v = [1, 0, 0, 0];\n",
    "compute(v, 6);\n",
    "print();\n",
    "v = [1, 1, 1, 1];\n",
    "compute(v, 6);"
   ]
  },
  {
   "cell_type": "code",
   "execution_count": 3,
   "metadata": {},
   "outputs": [
    {
     "name": "stdout",
     "output_type": "stream",
     "text": [
      "[1, 0, 0, 0] 15\n",
      "[0, 1, 0, 0] 14\n",
      "[0, 0, 1, 0] 13\n",
      "[1, 0, 0, 1] 12\n",
      "[1, 1, 0, 0] 11\n",
      "[0, 1, 1, 0] 10\n",
      "[1, 0, 1, 1] 9\n",
      "[0, 1, 0, 1] 8\n",
      "[1, 0, 1, 0] 7\n",
      "[1, 1, 0, 1] 6\n",
      "[1, 1, 1, 0] 5\n",
      "[1, 1, 1, 1] 4\n",
      "[0, 1, 1, 1] 3\n",
      "[0, 0, 1, 1] 2\n",
      "[0, 0, 0, 1] 1\n",
      "[1, 0, 0, 0] 0\n",
      "\n",
      "[1, 1, 1, 1] 15\n",
      "[0, 1, 1, 1] 14\n",
      "[0, 0, 1, 1] 13\n",
      "[0, 0, 0, 1] 12\n",
      "[1, 0, 0, 0] 11\n",
      "[0, 1, 0, 0] 10\n",
      "[0, 0, 1, 0] 9\n",
      "[1, 0, 0, 1] 8\n",
      "[1, 1, 0, 0] 7\n",
      "[0, 1, 1, 0] 6\n",
      "[1, 0, 1, 1] 5\n",
      "[0, 1, 0, 1] 4\n",
      "[1, 0, 1, 0] 3\n",
      "[1, 1, 0, 1] 2\n",
      "[1, 1, 1, 0] 1\n",
      "[1, 1, 1, 1] 0\n"
     ]
    }
   ],
   "source": [
    "v = [1, 0, 0, 0];\n",
    "compute2(v, 15);\n",
    "print();\n",
    "v = [1, 1, 1, 1];\n",
    "compute2(v,15);"
   ]
  },
  {
   "cell_type": "code",
   "execution_count": 4,
   "metadata": {},
   "outputs": [
    {
     "name": "stdout",
     "output_type": "stream",
     "text": [
      "[1, 0, 0, 0, 0] 12\n",
      "[0, 1, 0, 0, 0] 11\n",
      "[1, 0, 1, 0, 0] 10\n",
      "[1, 1, 0, 1, 0] 9\n",
      "[1, 1, 1, 0, 1] 8\n",
      "[1, 1, 1, 1, 0] 7\n",
      "[0, 1, 1, 1, 1] 6\n",
      "[1, 0, 1, 1, 1] 5\n",
      "[0, 1, 0, 1, 1] 4\n",
      "[0, 0, 1, 0, 1] 3\n",
      "[0, 0, 0, 1, 0] 2\n",
      "[0, 0, 0, 0, 1] 1\n",
      "[1, 0, 0, 0, 0] 0\n",
      "\n",
      "[1, 1, 1, 1, 1] 12\n",
      "[1, 1, 1, 1, 1] 11\n",
      "[1, 1, 1, 1, 1] 10\n",
      "[1, 1, 1, 1, 1] 9\n",
      "[1, 1, 1, 1, 1] 8\n",
      "[1, 1, 1, 1, 1] 7\n",
      "[1, 1, 1, 1, 1] 6\n",
      "[1, 1, 1, 1, 1] 5\n",
      "[1, 1, 1, 1, 1] 4\n",
      "[1, 1, 1, 1, 1] 3\n",
      "[1, 1, 1, 1, 1] 2\n",
      "[1, 1, 1, 1, 1] 1\n",
      "[1, 1, 1, 1, 1] 0\n"
     ]
    }
   ],
   "source": [
    "v = [1, 0, 0, 0, 0];\n",
    "compute3(v, 12);\n",
    "print();\n",
    "v = [1, 1, 1, 1, 1];\n",
    "compute3(v, 12);"
   ]
  },
  {
   "cell_type": "code",
   "execution_count": 5,
   "metadata": {},
   "outputs": [],
   "source": [
    "def genf2(f1, f0):\n",
    "    return (f1^f0);\n",
    "\n",
    "def compute_num2(v, i):\n",
    "    print(7-i,\"        \", v)\n",
    "    if i == 0:\n",
    "        return v;\n",
    "    else:\n",
    "        f2 = genf2(v[1], v[2])\n",
    "        return compute_num2([f2, v[0], v[1]], i-1)"
   ]
  },
  {
   "cell_type": "code",
   "execution_count": 6,
   "metadata": {},
   "outputs": [
    {
     "name": "stdout",
     "output_type": "stream",
     "text": [
      "0          [1, 0, 0]\n",
      "1          [0, 1, 0]\n",
      "2          [1, 0, 1]\n",
      "3          [1, 1, 0]\n",
      "4          [1, 1, 1]\n",
      "5          [0, 1, 1]\n",
      "6          [0, 0, 1]\n",
      "7          [1, 0, 0]\n"
     ]
    },
    {
     "data": {
      "text/plain": [
       "[1, 0, 0]"
      ]
     },
     "execution_count": 6,
     "metadata": {},
     "output_type": "execute_result"
    }
   ],
   "source": [
    "compute_num2([1, 0, 0], 7)"
   ]
  },
  {
   "cell_type": "code",
   "execution_count": 10,
   "metadata": {},
   "outputs": [
    {
     "name": "stdout",
     "output_type": "stream",
     "text": [
      "[1, 0, 0, 0] 10\n",
      "[0, 1, 0, 0] 9\n",
      "[0, 0, 1, 0] 8\n",
      "[1, 0, 0, 1] 7\n",
      "[1, 1, 0, 0] 6\n",
      "[0, 1, 1, 0] 5\n",
      "[1, 0, 1, 1] 4\n",
      "[0, 1, 0, 1] 3\n",
      "[1, 0, 1, 0] 2\n",
      "[1, 1, 0, 1] 1\n",
      "[1, 1, 1, 0] 0\n"
     ]
    },
    {
     "data": {
      "text/plain": [
       "[1, 1, 1, 0]"
      ]
     },
     "execution_count": 10,
     "metadata": {},
     "output_type": "execute_result"
    }
   ],
   "source": [
    "def genf3_111(f3, f2):\n",
    "    return (f2^f3);\n",
    "\n",
    "def compute111(v, i):\n",
    "    print(v, i)\n",
    "    if i == 0:\n",
    "        return v;\n",
    "    else:\n",
    "        f3 = genf3_111(v[0], v[1])\n",
    "        print(f3)\n",
    "        return compute111([f3, v[0], v[1], v[2]], i-1)\n",
    "    \n",
    "compute2([1, 0, 0, 0], 10)"
   ]
  },
  {
   "cell_type": "code",
   "execution_count": null,
   "metadata": {},
   "outputs": [],
   "source": []
  },
  {
   "cell_type": "code",
   "execution_count": null,
   "metadata": {},
   "outputs": [],
   "source": []
  }
 ],
 "metadata": {
  "kernelspec": {
   "display_name": "Python 3",
   "language": "python",
   "name": "python3"
  },
  "language_info": {
   "codemirror_mode": {
    "name": "ipython",
    "version": 3
   },
   "file_extension": ".py",
   "mimetype": "text/x-python",
   "name": "python",
   "nbconvert_exporter": "python",
   "pygments_lexer": "ipython3",
   "version": "3.7.0"
  }
 },
 "nbformat": 4,
 "nbformat_minor": 4
}
