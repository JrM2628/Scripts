{
 "cells": [
  {
   "cell_type": "code",
   "execution_count": 1,
   "metadata": {},
   "outputs": [
    {
     "name": "stdout",
     "output_type": "stream",
     "text": [
      "(2, 123456, 7111111, 1, 0, 0, 1)\n",
      "(3, 74119, 123456, -57, 1, 1, 0)\n",
      "(4, 49337, 74119, 58, -57, -1, 1)\n",
      "(5, 24782, 49337, -115, 58, 2, -1)\n",
      "(6, 24555, 24782, 173, -115, -3, 2)\n",
      "(7, 227, 24555, -288, 173, 5, -3)\n",
      "(8, 39, 227, 31277, -288, -543, 5)\n",
      "(9, 32, 39, -156673, 31277, 2720, -543)\n",
      "(10, 7, 32, 187950, -156673, -3263, 2720)\n",
      "(11, 4, 7, -908473, 187950, 15772, -3263)\n",
      "(12, 3, 4, 1096423, -908473, -19035, 15772)\n",
      "(13, 1, 3, -2004896, 1096423, 34807, -19035)\n",
      "34807\n",
      "Verify: 1 = 1?\n"
     ]
    },
    {
     "data": {
      "text/plain": [
       "'\\na = 1036\\nb = 25\\nresults = eea_wrap(a,b)\\nprint((results[2]) % b)\\nprint(\"Verify: 1 = {}?\".format((a * results[2]%b) % b))\\n'"
      ]
     },
     "execution_count": 1,
     "metadata": {},
     "output_type": "execute_result"
    }
   ],
   "source": [
    "\"\"\"\n",
    "Pseudocode from book: \n",
    "while ri is not 0:\n",
    "    i += 1\n",
    "    ri = ri-2 % ri-1\n",
    "    qi-1 = (ri-2 - ri) / ri-1\n",
    "    si = si-2 - qi-1 * si-1\n",
    "    ti = ti-2 - qi-1 * ti-1\n",
    "    \n",
    "i = 1\n",
    "rim1 = r1 a\n",
    "rim2 = r0 b\n",
    "sim1 = s1 = 0\n",
    "sim2 = s0 = 1\n",
    "tim1 = t1 = 1\n",
    "tim2 = t0 = 0\n",
    "returns tuple(gcd(r0, r1), s, t)\n",
    "\"\"\" \n",
    "def eea(i, rim1, rim2, sim1, sim2, tim1, tim2):\n",
    "    i += 1\n",
    "    ri = rim2 % rim1\n",
    "    if ri == 0:\n",
    "        return rim1, sim1, tim1\n",
    "    else:\n",
    "        qim1 = (rim2 - ri) // rim1\n",
    "        si = sim2 - qim1 * sim1\n",
    "        ti = tim2 - qim1 * tim1\n",
    "        print((i, ri, rim1, si, sim1, ti, tim1))\n",
    "        return eea(i, ri, rim1, si, sim1, ti, tim1)\n",
    "\n",
    "\"\"\"\n",
    "convenient wrapper function which only requires a and b\n",
    "also returns tuple(gcd(r0, r1), s, t)\n",
    "\"\"\"\n",
    "def eea_wrap(a,b):\n",
    "    i = 1\n",
    "    s0 = 1\n",
    "    s1 = 0\n",
    "    t0 = 0\n",
    "    t1 = 1 \n",
    "    return eea(i, a, b, s1, s0, t1, t0)\n",
    "    \n",
    "\n",
    "a = 7111111\n",
    "b = 123456\n",
    "results = eea_wrap(a,b)\n",
    "print((results[2]) % b)\n",
    "print(\"Verify: 1 = {}?\".format((a * results[2]%b) % b))\n",
    "\"\"\"\n",
    "a = 1036\n",
    "b = 25\n",
    "results = eea_wrap(a,b)\n",
    "print((results[2]) % b)\n",
    "print(\"Verify: 1 = {}?\".format((a * results[2]%b) % b))\n",
    "\"\"\"\n"
   ]
  },
  {
   "cell_type": "code",
   "execution_count": 2,
   "metadata": {},
   "outputs": [
    {
     "name": "stdout",
     "output_type": "stream",
     "text": [
      "(2, 11, 25, 1, 0, -41, 1)\n",
      "(3, 3, 11, -2, 1, 83, -41)\n",
      "(4, 2, 3, 7, -2, -290, 83)\n",
      "(5, 1, 2, -9, 7, 373, -290)\n",
      "373\n",
      "Verify: 1 = 1?\n"
     ]
    }
   ],
   "source": [
    "a = 25\n",
    "b = 1036\n",
    "results = eea_wrap(a,b)\n",
    "print((results[2]) % b)\n",
    "print(\"Verify: 1 = {}?\".format((a * results[2]%b) % b))"
   ]
  },
  {
   "cell_type": "code",
   "execution_count": 4,
   "metadata": {},
   "outputs": [
    {
     "name": "stdout",
     "output_type": "stream",
     "text": [
      "(2, 283, 634, 1, 0, 0, 1)\n",
      "(3, 68, 283, -2, 1, 1, 0)\n",
      "(4, 11, 68, 9, -2, -4, 1)\n",
      "(5, 2, 11, -56, 9, 25, -4)\n",
      "(6, 1, 2, 289, -56, -129, 25)\n"
     ]
    },
    {
     "data": {
      "text/plain": [
       "(1, 289, -129)"
      ]
     },
     "execution_count": 4,
     "metadata": {},
     "output_type": "execute_result"
    }
   ],
   "source": [
    "eea_wrap(0x27a, 0x11b)"
   ]
  },
  {
   "cell_type": "code",
   "execution_count": null,
   "metadata": {},
   "outputs": [],
   "source": [
    "\n"
   ]
  },
  {
   "cell_type": "code",
   "execution_count": null,
   "metadata": {},
   "outputs": [],
   "source": []
  },
  {
   "cell_type": "code",
   "execution_count": null,
   "metadata": {},
   "outputs": [],
   "source": []
  },
  {
   "cell_type": "code",
   "execution_count": null,
   "metadata": {},
   "outputs": [],
   "source": []
  },
  {
   "cell_type": "code",
   "execution_count": 10,
   "metadata": {},
   "outputs": [
    {
     "name": "stdout",
     "output_type": "stream",
     "text": [
      "1: [1, 1, 1, 1, 1, 1, 1, 1, 1, 1, 1, 1, 1, 1, 1, 1, 1, 1, 1]\n",
      "2: [1, 2, 4, 8, 16, 13, 7, 14, 9, 18, 17, 15, 11, 3, 6, 12, 5, 10, 1]\n",
      "3: [1, 3, 9, 8, 5, 15, 7, 2, 6, 18, 16, 10, 11, 14, 4, 12, 17, 13, 1]\n",
      "4: [1, 4, 16, 7, 9, 17, 11, 6, 5, 1, 4, 16, 7, 9, 17, 11, 6, 5, 1]\n",
      "5: [1, 5, 6, 11, 17, 9, 7, 16, 4, 1, 5, 6, 11, 17, 9, 7, 16, 4, 1]\n",
      "6: [1, 6, 17, 7, 4, 5, 11, 9, 16, 1, 6, 17, 7, 4, 5, 11, 9, 16, 1]\n",
      "7: [1, 7, 11, 1, 7, 11, 1, 7, 11, 1, 7, 11, 1, 7, 11, 1, 7, 11, 1]\n",
      "8: [1, 8, 7, 18, 11, 12, 1, 8, 7, 18, 11, 12, 1, 8, 7, 18, 11, 12, 1]\n",
      "9: [1, 9, 5, 7, 6, 16, 11, 4, 17, 1, 9, 5, 7, 6, 16, 11, 4, 17, 1]\n",
      "10: [1, 10, 5, 12, 6, 3, 11, 15, 17, 18, 9, 14, 7, 13, 16, 8, 4, 2, 1]\n",
      "11: [1, 11, 7, 1, 11, 7, 1, 11, 7, 1, 11, 7, 1, 11, 7, 1, 11, 7, 1]\n",
      "12: [1, 12, 11, 18, 7, 8, 1, 12, 11, 18, 7, 8, 1, 12, 11, 18, 7, 8, 1]\n",
      "13: [1, 13, 17, 12, 4, 14, 11, 10, 16, 18, 6, 2, 7, 15, 5, 8, 9, 3, 1]\n",
      "14: [1, 14, 6, 8, 17, 10, 7, 3, 4, 18, 5, 13, 11, 2, 9, 12, 16, 15, 1]\n",
      "15: [1, 15, 16, 12, 9, 2, 11, 13, 5, 18, 4, 3, 7, 10, 17, 8, 6, 14, 1]\n",
      "16: [1, 16, 9, 11, 5, 4, 7, 17, 6, 1, 16, 9, 11, 5, 4, 7, 17, 6, 1]\n",
      "17: [1, 17, 4, 11, 16, 6, 7, 5, 9, 1, 17, 4, 11, 16, 6, 7, 5, 9, 1]\n",
      "18: [1, 18, 1, 18, 1, 18, 1, 18, 1, 18, 1, 18, 1, 18, 1, 18, 1, 18, 1]\n",
      "a=1: 1\n",
      "a=2: 18*\n",
      "a=3: 18*\n",
      "a=4: 9\n",
      "a=5: 9\n",
      "a=6: 9\n",
      "a=7: 3\n",
      "a=8: 6\n",
      "a=9: 9\n",
      "a=10: 18*\n",
      "a=11: 3\n",
      "a=12: 6\n",
      "a=13: 18*\n",
      "a=14: 18*\n",
      "a=15: 18*\n",
      "a=16: 9\n",
      "a=17: 9\n",
      "a=18: 2\n"
     ]
    }
   ],
   "source": [
    "def mod_tabs(n):\n",
    "    #n = 32\n",
    "    mytrix = []\n",
    "    for a in range (1, n):\n",
    "        print(\"{}: \".format(a), end='')\n",
    "        row = []\n",
    "        for k in range(0, n):\n",
    "            row.append((a**k)%n)\n",
    "        print(row)\n",
    "        mytrix.append(row)\n",
    "\n",
    "    i = 1\n",
    "    for row in mytrix:\n",
    "        temp = []\n",
    "        for x in row:\n",
    "            if x not in temp:\n",
    "                temp.append(x)\n",
    "            else:\n",
    "                break\n",
    "        if len(temp) == (n - 1):\n",
    "            print(\"a={}: {}*\".format(i, len(temp)))\n",
    "        else:\n",
    "            print(\"a={}: {}\".format(i, len(temp)))\n",
    "        i += 1\n",
    "mod_tabs(19)"
   ]
  },
  {
   "cell_type": "code",
   "execution_count": null,
   "metadata": {},
   "outputs": [],
   "source": []
  }
 ],
 "metadata": {
  "kernelspec": {
   "display_name": "Python 3",
   "language": "python",
   "name": "python3"
  },
  "language_info": {
   "codemirror_mode": {
    "name": "ipython",
    "version": 3
   },
   "file_extension": ".py",
   "mimetype": "text/x-python",
   "name": "python",
   "nbconvert_exporter": "python",
   "pygments_lexer": "ipython3",
   "version": "3.7.0"
  }
 },
 "nbformat": 4,
 "nbformat_minor": 4
}
