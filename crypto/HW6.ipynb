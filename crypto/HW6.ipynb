{
 "cells": [
  {
   "cell_type": "code",
   "execution_count": 4,
   "metadata": {},
   "outputs": [
    {
     "data": {
      "text/plain": [
       "9"
      ]
     },
     "execution_count": 4,
     "metadata": {},
     "output_type": "execute_result"
    }
   ],
   "source": [
    "#TO TEST MOD INV OUTPUT\n",
    "def egcd(a, b):\n",
    "    if a == 0:\n",
    "        return b, 0, 1\n",
    "    else:\n",
    "        g, x, y = egcd(b % a, a)\n",
    "        return g, y - (b // a) * x, x\n",
    "\n",
    "\n",
    "def mod_inv(a, m):\n",
    "    g, x, y = egcd(a, m)\n",
    "    if g != 1:\n",
    "        raise Exception('modular inverse does not exist')\n",
    "    else:\n",
    "        return x % m\n",
    "    \n",
    "mod_inv(3, 26)"
   ]
  },
  {
   "cell_type": "code",
   "execution_count": 5,
   "metadata": {},
   "outputs": [
    {
     "data": {
      "text/plain": [
       "99"
      ]
     },
     "execution_count": 5,
     "metadata": {},
     "output_type": "execute_result"
    }
   ],
   "source": [
    "def square_and_multiply(x, t, n):\n",
    "    r = x\n",
    "    ex_h = bin(t)[2::]\n",
    "    ex_h = ex_h[::-1]\n",
    "    \n",
    "    for i in range(len(ex_h)-1, 0, -1):\n",
    "        r = (r ** 2) % n\n",
    "        if int(ex_h[i-1]) == 1:\n",
    "            r = (r * x) % n\n",
    "    return(r)\n",
    "       \n",
    "\n",
    "square_and_multiply(x=39, t=39, n=773)"
   ]
  },
  {
   "cell_type": "code",
   "execution_count": 6,
   "metadata": {},
   "outputs": [
    {
     "data": {
      "text/plain": [
       "3078688"
      ]
     },
     "execution_count": 6,
     "metadata": {},
     "output_type": "execute_result"
    }
   ],
   "source": [
    "square_and_multiply(x=1234567, t=2345678, n=3333337)"
   ]
  },
  {
   "cell_type": "markdown",
   "metadata": {},
   "source": []
  },
  {
   "cell_type": "code",
   "execution_count": 7,
   "metadata": {},
   "outputs": [
    {
     "name": "stdout",
     "output_type": "stream",
     "text": [
      "2\n",
      "625\n",
      "11\n"
     ]
    }
   ],
   "source": [
    "def fermat(a, p):\n",
    "    #IF P IS PRIME\n",
    "    #a^(−1) ≡ a^(p−2) (mod p)\n",
    "    return (a**(p-2)) % p\n",
    "\n",
    "def euler(totient, a, p):\n",
    "    #Let a and p be integers with gcd(a,p) = 1, then:\n",
    "    #a^Φ(p) ≡ 1 (mod p).\n",
    "    return a**totient \n",
    "\n",
    "print(fermat(4, 7))\n",
    "print(euler(4, 5, 12))\n",
    "print(fermat(6, 13))"
   ]
  },
  {
   "cell_type": "code",
   "execution_count": 8,
   "metadata": {},
   "outputs": [
    {
     "name": "stdout",
     "output_type": "stream",
     "text": [
      "a=1 \ta(^-1)= 1 \ta*a^(-1)= 1\n",
      "a=3 \ta(^-1)= 9 \ta*a^(-1)= 1\n",
      "a=5 \ta(^-1)= 21 \ta*a^(-1)= 1\n",
      "a=7 \ta(^-1)= 15 \ta*a^(-1)= 1\n",
      "a=9 \ta(^-1)= 3 \ta*a^(-1)= 1\n",
      "a=11 \ta(^-1)= 19 \ta*a^(-1)= 1\n",
      "a=15 \ta(^-1)= 7 \ta*a^(-1)= 1\n",
      "a=17 \ta(^-1)= 23 \ta*a^(-1)= 1\n",
      "a=19 \ta(^-1)= 11 \ta*a^(-1)= 1\n",
      "a=21 \ta(^-1)= 5 \ta*a^(-1)= 1\n",
      "a=23 \ta(^-1)= 17 \ta*a^(-1)= 1\n",
      "a=25 \ta(^-1)= 25 \ta*a^(-1)= 1\n"
     ]
    }
   ],
   "source": [
    "\"\"\"\n",
    "euler formula  states that, if a and m are integers with gcd (a,m) = 1 then:\n",
    "a**totient(m) = 1 (mod m)\n",
    "\n",
    "a^11 mod 26\n",
    "m = 26, totient(m) = 12, a = ?\n",
    "\n",
    "According to euler's formula, (a ** 12) % 26 should always = 1 if gcd (a,m) = 1\n",
    "This checks out for all possible values for a: 1, 3, 5, 7, 9, 11, 15, 17, 19, 21, 23, 25\n",
    "a times its inverse mod 26 will always give you 1. \n",
    "\"\"\"\n",
    "\n",
    "for i in range(1, 26):\n",
    "    try:\n",
    "        str(mod_inv(i, 26))\n",
    "        print(\"a=\" + str(i), \"\\ta(^-1)=\", str(i**11 % 26), \"\\ta*a^(-1)=\", str((i ** 12) % 26))\n",
    "    except:\n",
    "        continue"
   ]
  },
  {
   "cell_type": "code",
   "execution_count": 9,
   "metadata": {},
   "outputs": [
    {
     "name": "stdout",
     "output_type": "stream",
     "text": [
      "A \"*\" denotes that gcd(a,m) = 1\n",
      "m=8\n",
      "------\n",
      " i=0\tg=8\t|\tVerification: (0^4)%8 = \t0%8 \t= 0 is not 1\n",
      "*i=1\tg=1\t|\tVerification: (1^4)%8 = \t1%8 \t= 1 is 1\n",
      " i=2\tg=2\t|\tVerification: (2^4)%8 = \t16%8 \t= 0 is not 1\n",
      "*i=3\tg=1\t|\tVerification: (3^4)%8 = \t81%8 \t= 1 is 1\n",
      " i=4\tg=4\t|\tVerification: (4^4)%8 = \t256%8 \t= 0 is not 1\n",
      "*i=5\tg=1\t|\tVerification: (5^4)%8 = \t625%8 \t= 1 is 1\n",
      " i=6\tg=2\t|\tVerification: (6^4)%8 = \t1296%8 \t= 0 is not 1\n",
      "*i=7\tg=1\t|\tVerification: (7^4)%8 = \t2401%8 \t= 1 is 1\n",
      "\n",
      "\n",
      "m=10\n",
      "------\n",
      " i=0\tg=10\t|\tVerification: (0^4)%10 = \t0%10 \t= 0 is not 1\n",
      "*i=1\tg=1\t|\tVerification: (1^4)%10 = \t1%10 \t= 1 is 1\n",
      " i=2\tg=2\t|\tVerification: (2^4)%10 = \t16%10 \t= 6 is not 1\n",
      "*i=3\tg=1\t|\tVerification: (3^4)%10 = \t81%10 \t= 1 is 1\n",
      " i=4\tg=2\t|\tVerification: (4^4)%10 = \t256%10 \t= 6 is not 1\n",
      " i=5\tg=5\t|\tVerification: (5^4)%10 = \t625%10 \t= 5 is not 1\n",
      " i=6\tg=2\t|\tVerification: (6^4)%10 = \t1296%10 \t= 6 is not 1\n",
      "*i=7\tg=1\t|\tVerification: (7^4)%10 = \t2401%10 \t= 1 is 1\n",
      " i=8\tg=2\t|\tVerification: (8^4)%10 = \t4096%10 \t= 6 is not 1\n",
      "*i=9\tg=1\t|\tVerification: (9^4)%10 = \t6561%10 \t= 1 is 1\n",
      "\n",
      "\n",
      "m=26\n",
      "------\n",
      " i=0\tg=26\t|\tVerification: (0^12)%26 = \t0%26 \t= 0 is not 1\n",
      "*i=1\tg=1\t|\tVerification: (1^12)%26 = \t1%26 \t= 1 is 1\n",
      " i=2\tg=2\t|\tVerification: (2^12)%26 = \t4096%26 \t= 14 is not 1\n",
      "*i=3\tg=1\t|\tVerification: (3^12)%26 = \t531441%26 \t= 1 is 1\n",
      " i=4\tg=2\t|\tVerification: (4^12)%26 = \t16777216%26 \t= 14 is not 1\n",
      "*i=5\tg=1\t|\tVerification: (5^12)%26 = \t244140625%26 \t= 1 is 1\n",
      " i=6\tg=2\t|\tVerification: (6^12)%26 = \t2176782336%26 \t= 14 is not 1\n",
      "*i=7\tg=1\t|\tVerification: (7^12)%26 = \t13841287201%26 \t= 1 is 1\n",
      " i=8\tg=2\t|\tVerification: (8^12)%26 = \t68719476736%26 \t= 14 is not 1\n",
      "*i=9\tg=1\t|\tVerification: (9^12)%26 = \t282429536481%26 \t= 1 is 1\n",
      " i=10\tg=2\t|\tVerification: (10^12)%26 = \t1000000000000%26 \t= 14 is not 1\n",
      "*i=11\tg=1\t|\tVerification: (11^12)%26 = \t3138428376721%26 \t= 1 is 1\n",
      " i=12\tg=2\t|\tVerification: (12^12)%26 = \t8916100448256%26 \t= 14 is not 1\n",
      " i=13\tg=13\t|\tVerification: (13^12)%26 = \t23298085122481%26 \t= 13 is not 1\n",
      " i=14\tg=2\t|\tVerification: (14^12)%26 = \t56693912375296%26 \t= 14 is not 1\n",
      "*i=15\tg=1\t|\tVerification: (15^12)%26 = \t129746337890625%26 \t= 1 is 1\n",
      " i=16\tg=2\t|\tVerification: (16^12)%26 = \t281474976710656%26 \t= 14 is not 1\n",
      "*i=17\tg=1\t|\tVerification: (17^12)%26 = \t582622237229761%26 \t= 1 is 1\n",
      " i=18\tg=2\t|\tVerification: (18^12)%26 = \t1156831381426176%26 \t= 14 is not 1\n",
      "*i=19\tg=1\t|\tVerification: (19^12)%26 = \t2213314919066161%26 \t= 1 is 1\n",
      " i=20\tg=2\t|\tVerification: (20^12)%26 = \t4096000000000000%26 \t= 14 is not 1\n",
      "*i=21\tg=1\t|\tVerification: (21^12)%26 = \t7355827511386641%26 \t= 1 is 1\n",
      " i=22\tg=2\t|\tVerification: (22^12)%26 = \t12855002631049216%26 \t= 14 is not 1\n",
      "*i=23\tg=1\t|\tVerification: (23^12)%26 = \t21914624432020321%26 \t= 1 is 1\n",
      " i=24\tg=2\t|\tVerification: (24^12)%26 = \t36520347436056576%26 \t= 14 is not 1\n",
      "*i=25\tg=1\t|\tVerification: (25^12)%26 = \t59604644775390625%26 \t= 1 is 1\n"
     ]
    },
    {
     "data": {
      "text/plain": [
       "'    \\nprint(\"m=8\\n------\")\\nprint(euler(totient=4, a=3, p=8))\\nprint((3**4)%8)\\nprint(euler(totient=4, a=4, p=8))\\nprint((4**4)%8)\\n\\nprint(\"\\nm=10\\n------\")\\nprint(euler(totient=4, a=3, p=10))\\nprint((3**4)%10)\\nprint(euler(totient=4, a=4, p=10))\\nprint((4**4)%10)\\n'"
      ]
     },
     "execution_count": 9,
     "metadata": {},
     "output_type": "execute_result"
    }
   ],
   "source": [
    "print(\"A \\\"*\\\" denotes that gcd(a,m) = 1\")\n",
    "print(\"m=8\\n------\")\n",
    "m = 8\n",
    "t = 4\n",
    "for i in range(0, m):\n",
    "    #print(euler(totient=t, a=i, p=m))\n",
    "    g,x,y = egcd(i, m)\n",
    "    if g == 1:\n",
    "        print(\"*i={}\\tg={}\\t|\\tVerification: ({}^{})%{} = \\t{}%{} \\t= {} is 1\".format(i, g, i, t, m,(i**t),m, (i**t)%m))\n",
    "    else:\n",
    "        print(\" i={}\\tg={}\\t|\\tVerification: ({}^{})%{} = \\t{}%{} \\t= {} is not 1\".format(i, g, i, t, m,(i**t),m, (i**t)%m))\n",
    "\n",
    "m=10\n",
    "print(\"\\n\\nm=10\\n------\")\n",
    "for i in range(0, m):\n",
    "    #print(euler(totient=t, a=i, p=m))\n",
    "    g,x,y = egcd(i, m)\n",
    "    if g == 1:\n",
    "        print(\"*i={}\\tg={}\\t|\\tVerification: ({}^{})%{} = \\t{}%{} \\t= {} is 1\".format(i, g, i, t, m,(i**t),m, (i**t)%m))\n",
    "    else:\n",
    "        print(\" i={}\\tg={}\\t|\\tVerification: ({}^{})%{} = \\t{}%{} \\t= {} is not 1\".format(i, g, i, t, m,(i**t),m, (i**t)%m))\n",
    "\n",
    "\n",
    "m=26\n",
    "t=12\n",
    "print(\"\\n\\nm=26\\n------\")\n",
    "for i in range(0, m):\n",
    "    #print(euler(totient=t, a=i, p=m))\n",
    "    g,x,y = egcd(i, m)\n",
    "    if g == 1:\n",
    "        print(\"*i={}\\tg={}\\t|\\tVerification: ({}^{})%{} = \\t{}%{} \\t= {} is 1\".format(i, g, i, t, m,(i**t),m, (i**t)%m))\n",
    "    else:\n",
    "        print(\" i={}\\tg={}\\t|\\tVerification: ({}^{})%{} = \\t{}%{} \\t= {} is not 1\".format(i, g, i, t, m,(i**t),m, (i**t)%m))\n",
    "\"\"\"    \n",
    "print(\"m=8\\n------\")\n",
    "print(euler(totient=4, a=3, p=8))\n",
    "print((3**4)%8)\n",
    "print(euler(totient=4, a=4, p=8))\n",
    "print((4**4)%8)\n",
    "\n",
    "print(\"\\nm=10\\n------\")\n",
    "print(euler(totient=4, a=3, p=10))\n",
    "print((3**4)%10)\n",
    "print(euler(totient=4, a=4, p=10))\n",
    "print((4**4)%10)\n",
    "\"\"\""
   ]
  },
  {
   "cell_type": "code",
   "execution_count": 14,
   "metadata": {},
   "outputs": [
    {
     "name": "stdout",
     "output_type": "stream",
     "text": [
      "4\n",
      "4\n"
     ]
    },
    {
     "data": {
      "text/plain": [
       "4"
      ]
     },
     "execution_count": 14,
     "metadata": {},
     "output_type": "execute_result"
    }
   ],
   "source": [
    "print(5**20%7)\n",
    "print(square_and_multiply(5, 20, 7))\n",
    "fermat(2, 7)"
   ]
  },
  {
   "cell_type": "code",
   "execution_count": 15,
   "metadata": {},
   "outputs": [
    {
     "data": {
      "text/plain": [
       "'0b100111'"
      ]
     },
     "execution_count": 15,
     "metadata": {},
     "output_type": "execute_result"
    }
   ],
   "source": [
    "bin(39)"
   ]
  },
  {
   "cell_type": "code",
   "execution_count": 24,
   "metadata": {},
   "outputs": [
    {
     "data": {
      "text/plain": [
       "62"
      ]
     },
     "execution_count": 24,
     "metadata": {},
     "output_type": "execute_result"
    }
   ],
   "source": [
    "(618**2)%773"
   ]
  },
  {
   "cell_type": "code",
   "execution_count": 25,
   "metadata": {},
   "outputs": [
    {
     "data": {
      "text/plain": [
       "99"
      ]
     },
     "execution_count": 25,
     "metadata": {},
     "output_type": "execute_result"
    }
   ],
   "source": [
    "(62 * 39)%773"
   ]
  },
  {
   "cell_type": "code",
   "execution_count": 37,
   "metadata": {},
   "outputs": [
    {
     "data": {
      "text/plain": [
       "4"
      ]
     },
     "execution_count": 37,
     "metadata": {},
     "output_type": "execute_result"
    }
   ],
   "source": [
    "def gcd(a, b):\n",
    "    if (a == 0):\n",
    "        return b\n",
    "    return gcd(b % a, a)\n",
    " \n",
    "# A simple method to evaluate\n",
    "# Euler Totient Function\n",
    "def phi(n):\n",
    "    result = 1\n",
    "    for i in range(2, n):\n",
    "        if (gcd(i, n) == 1):\n",
    "            #print(i)\n",
    "            result+=1\n",
    "    return result\n",
    "\n"
   ]
  },
  {
   "cell_type": "code",
   "execution_count": 38,
   "metadata": {},
   "outputs": [
    {
     "data": {
      "text/plain": [
       "4"
      ]
     },
     "execution_count": 38,
     "metadata": {},
     "output_type": "execute_result"
    }
   ],
   "source": [
    "euler(phi(10),)"
   ]
  },
  {
   "cell_type": "code",
   "execution_count": null,
   "metadata": {},
   "outputs": [],
   "source": []
  }
 ],
 "metadata": {
  "kernelspec": {
   "display_name": "Python 3",
   "language": "python",
   "name": "python3"
  },
  "language_info": {
   "codemirror_mode": {
    "name": "ipython",
    "version": 3
   },
   "file_extension": ".py",
   "mimetype": "text/x-python",
   "name": "python",
   "nbconvert_exporter": "python",
   "pygments_lexer": "ipython3",
   "version": "3.7.0"
  }
 },
 "nbformat": 4,
 "nbformat_minor": 4
}
