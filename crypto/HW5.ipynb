{
 "cells": [
  {
   "cell_type": "code",
   "execution_count": 158,
   "metadata": {},
   "outputs": [],
   "source": [
    "\"\"\"\n",
    "Write each number at the head of a column.\n",
    "Double the number in the  1st column, half the number in the 2nd column (dropping the remainder).\n",
    "If the number in the 2nd column is even, cross out that entire row.\n",
    "Keep doubling and halving and crossing out until the number in the 2nd column is 1.\n",
    "Add  up  all  remaining  (not  crossed  out)  numbers  in  the  1st  column.   The  total is the result of the multiplication.  (Note:  recall that add means XOR in the context of GF(2^8).)\n",
    "\"\"\"\n",
    "def russian_peasant(val1, val2):\n",
    "    su = 0\n",
    "    while val2 != 1:\n",
    "        #print(hex(val1), hex(val2))\n",
    "        #if val2 is odd, xor with sum\n",
    "        if val2 % 2 == 1:\n",
    "            su ^= (val1)\n",
    "            \n",
    "        if val1 >= 128:\n",
    "            val1 = (val1 * 2) ^ 0x11b\n",
    "        else:\n",
    "            val1 = (val1 * 2) \n",
    "        val2 = (val2 // 2)\n",
    "    su ^= (val1)\n",
    "    return(hex(su % 256))\n",
    "    "
   ]
  },
  {
   "cell_type": "code",
   "execution_count": 154,
   "metadata": {},
   "outputs": [
    {
     "name": "stdout",
     "output_type": "stream",
     "text": [
      "0x4c\n",
      "0xc9\n",
      "0xc9\n"
     ]
    }
   ],
   "source": [
    "print(russian_peasant(0x1E, 0x37))\n",
    "print(russian_peasant(0xc3, 0x33))\n",
    "print(russian_peasant(0x33, 0xC3))"
   ]
  },
  {
   "cell_type": "code",
   "execution_count": null,
   "metadata": {},
   "outputs": [],
   "source": []
  },
  {
   "cell_type": "code",
   "execution_count": null,
   "metadata": {},
   "outputs": [],
   "source": []
  },
  {
   "cell_type": "code",
   "execution_count": 3,
   "metadata": {},
   "outputs": [],
   "source": []
  },
  {
   "cell_type": "code",
   "execution_count": 4,
   "metadata": {},
   "outputs": [
    {
     "name": "stdout",
     "output_type": "stream",
     "text": [
      "0x8\n"
     ]
    }
   ],
   "source": []
  },
  {
   "cell_type": "code",
   "execution_count": 5,
   "metadata": {},
   "outputs": [
    {
     "name": "stdout",
     "output_type": "stream",
     "text": [
      "0x71\n",
      "0x57\n"
     ]
    }
   ],
   "source": []
  },
  {
   "cell_type": "code",
   "execution_count": 172,
   "metadata": {},
   "outputs": [
    {
     "name": "stdout",
     "output_type": "stream",
     "text": [
      "0x47\n",
      "0x37\n",
      "0x94\n",
      "0xed\n"
     ]
    }
   ],
   "source": [
    "m1 =  [[0x2, 0x3, 0x1, 0x1],\n",
    "       [0x1, 0x2, 0x3, 0x1],\n",
    "       [0x1, 0x1, 0x2, 0x3],\n",
    "       [0x3, 0x1, 0x1, 0x2]]\n",
    "\n",
    "m2 =    [[0x87],\n",
    "         [0x6E],\n",
    "         [0x46],\n",
    "         [0xA6]]\n",
    "\n",
    "for row in range(0, len(m1)):\n",
    "    row_sum = 0\n",
    "    for i in range(0, len(m1[row])):\n",
    "        #print(hex(m2[i][0]), hex(m1[row][i]))\n",
    "        mresult = int(russian_peasant(m2[i][0], m1[row][i]), base=16)\n",
    "        row_sum ^= mresult\n",
    "    print(hex(row_sum))"
   ]
  },
  {
   "cell_type": "code",
   "execution_count": 173,
   "metadata": {},
   "outputs": [
    {
     "name": "stdout",
     "output_type": "stream",
     "text": [
      "0x87\n",
      "0x6e\n",
      "0x46\n",
      "0xa6\n"
     ]
    }
   ],
   "source": [
    "m1 =  [[0xe, 0xb, 0xd, 0x9],\n",
    "       [0x9, 0xe, 0xb, 0xd],\n",
    "       [0xd, 0x9, 0xe, 0xb],\n",
    "       [0xb, 0xd, 0x9, 0xe]]\n",
    "\n",
    "m2 =    [[0x47],\n",
    "         [0x37],\n",
    "         [0x94],\n",
    "         [0xed]]\n",
    "for row in range(0, len(m1)):\n",
    "    row_sum = 0\n",
    "    for i in range(0, len(m1[row])):\n",
    "        row_sum ^= int(russian_peasant(m2[i][0], m1[row][i]), base=16)\n",
    "    print(hex(row_sum % 256))"
   ]
  },
  {
   "cell_type": "code",
   "execution_count": null,
   "metadata": {},
   "outputs": [],
   "source": []
  }
 ],
 "metadata": {
  "kernelspec": {
   "display_name": "Python 3",
   "language": "python",
   "name": "python3"
  },
  "language_info": {
   "codemirror_mode": {
    "name": "ipython",
    "version": 3
   },
   "file_extension": ".py",
   "mimetype": "text/x-python",
   "name": "python",
   "nbconvert_exporter": "python",
   "pygments_lexer": "ipython3",
   "version": "3.7.0"
  }
 },
 "nbformat": 4,
 "nbformat_minor": 4
}
